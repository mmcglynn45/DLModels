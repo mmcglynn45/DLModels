{
 "cells": [
  {
   "cell_type": "code",
   "execution_count": 2,
   "metadata": {},
   "outputs": [],
   "source": [
    "\n",
    "import numpy as np\n",
    "import pandas\n",
    "\n",
    "import skimage.data\n",
    "import skimage.transform\n",
    "from skimage import data, io, filters"
   ]
  },
  {
   "cell_type": "code",
   "execution_count": 2,
   "metadata": {
    "collapsed": true
   },
   "outputs": [],
   "source": [
    "import math\n",
    "\n",
    "width = 128\n",
    "height = 92\n",
    "# Import Labels\n",
    "labels = []\n",
    "imagePaths = []\n",
    "lastTrackingAngle = 0\n",
    "lastSpeed = 0\n",
    "for i in range(20,26):\n",
    "    fname = \"G:/CarDataNew/AccelerationData/capture\"+str(i)+\"/accelClass.txt\"\n",
    "    base = \"G:/CarDataNew/AccelerationData/capture\"+str(i) + \"/\"\n",
    "    with open(fname) as f:\n",
    "        content = f.readlines()\n",
    "        for line in content:\n",
    "            line = line.split(\",\")\n",
    "            speedString = (line[1].split(\" \"))[2]\n",
    "            speed = float(speedString)\n",
    "            trackingAngleString = (line[8].split(\" \"))[2]\n",
    "            trackingAngle = float(trackingAngleString)\n",
    "            deltaTrackingAngle = trackingAngle - lastTrackingAngle\n",
    "            deltaSpeed = speed - lastSpeed\n",
    "            lastTrackingAngle = trackingAngle\n",
    "            lastSpeed = speed\n",
    "            filePath = (line[10])\n",
    "            if speed > 30 and abs(deltaTrackingAngle) > 0.5 and abs(deltaTrackingAngle) < 7:\n",
    "                labels.append(deltaTrackingAngle)\n",
    "                if(deltaTrackingAngle>0):\n",
    "                    deltaTrackingAngle = 1\n",
    "                else:\n",
    "                    deltaTrackingAngle = -1\n",
    "                #labels.append(speed)\n",
    "                #labels.append(deltaTrackingAngle)\n",
    "                #print speed\n",
    "                #print trackingAngle\n",
    "                picturePath = base+filePath\n",
    "                #print picturePath\n",
    "                imagePaths.append(picturePath)\n",
    "\n",
    "trainingIndex = int(len(imagePaths)/1.4)"
   ]
  },
  {
   "cell_type": "code",
   "execution_count": 5,
   "metadata": {},
   "outputs": [
    {
     "name": "stdout",
     "output_type": "stream",
     "text": [
      "(1533, 92, 128, 3)\n"
     ]
    }
   ],
   "source": [
    "from skimage.color.adapt_rgb import adapt_rgb, each_channel, hsv_value\n",
    "from skimage import filters\n",
    "\n",
    "from skimage.color import rgb2gray\n",
    "from skimage.color.adapt_rgb import adapt_rgb, each_channel, hsv_value\n",
    "from skimage import filters\n",
    "import operator\n",
    "from operator import sub\n",
    "\n",
    "\n",
    "@adapt_rgb(each_channel)\n",
    "def sobel_each(image):\n",
    "    return filters.sobel(image)\n",
    "\n",
    "def as_gray(image_filter, image, *args, **kwargs):\n",
    "    gray_image = rgb2gray(image)\n",
    "    return image_filter(gray_image, *args, **kwargs)\n",
    "\n",
    "@adapt_rgb(as_gray)\n",
    "def sobel_gray(image):\n",
    "    return image\n",
    "\n",
    "\n",
    "\n",
    "images = np.zeros((len(imagePaths),height,width,3))\n",
    "print(images.shape)\n",
    "threadCount = 20\n",
    "import threading\n",
    "\n",
    "def worker(loadPath, loadPath2, imageIndex):\n",
    "    \"\"\"thread worker function\"\"\"\n",
    "    image = skimage.data.imread(loadPath)\n",
    "    image2 = skimage.data.imread(loadPath2)\n",
    "    image = skimage.transform.resize(image, (height, width), mode='reflect')\n",
    "    image2 = skimage.transform.resize(image2, (height, width), mode='reflect')\n",
    "    edges = sobel_gray(image)\n",
    "    edges2 = sobel_gray(image2)\n",
    "    edges3 = edges2-edges\n",
    "    images[imageIndex] = image2\n",
    "    return edges3, imageIndex\n",
    "\n",
    "for imNum in range(0,len(imagePaths),threadCount):\n",
    "    threads = []\n",
    "    for i in range(threadCount):\n",
    "        \n",
    "        if(imNum+i >= len(imagePaths)):\n",
    "            continue\n",
    "        if(imNum+1==0):\n",
    "            loadPath = imagePaths[mNum+i]\n",
    "            loadPath2 = imagePaths[imNum+i]\n",
    "        else:\n",
    "            loadPath = imagePaths[imNum+i-1]\n",
    "            loadPath2 = imagePaths[imNum+i]\n",
    "        t = threading.Thread(target=worker, args=(loadPath,loadPath2,imNum+i))\n",
    "        threads.append(t)\n",
    "        t.start()"
   ]
  },
  {
   "cell_type": "code",
   "execution_count": null,
   "metadata": {
    "collapsed": true
   },
   "outputs": [],
   "source": []
  },
  {
   "cell_type": "code",
   "execution_count": null,
   "metadata": {
    "collapsed": true
   },
   "outputs": [],
   "source": [
    "\n",
    "        "
   ]
  },
  {
   "cell_type": "code",
   "execution_count": 6,
   "metadata": {},
   "outputs": [
    {
     "name": "stdout",
     "output_type": "stream",
     "text": [
      "[[[ 0.29488491  0.29488491  0.29488491]\n",
      "  [ 0.47749361  0.47749361  0.47749361]\n",
      "  [ 0.35251492  0.34032396  0.32199488]\n",
      "  ..., \n",
      "  [ 0.9372549   0.9372549   0.9372549 ]\n",
      "  [ 0.9372549   0.9372549   0.9372549 ]\n",
      "  [ 0.9372549   0.9372549   0.9372549 ]]\n",
      "\n",
      " [[ 0.38303495  0.38567775  0.37510656]\n",
      "  [ 0.36615516  0.36231884  0.32693947]\n",
      "  [ 0.35021313  0.34117647  0.32813299]\n",
      "  ..., \n",
      "  [ 0.9372549   0.9372549   0.9372549 ]\n",
      "  [ 0.9372549   0.9372549   0.9372549 ]\n",
      "  [ 0.9372549   0.9372549   0.9372549 ]]\n",
      "\n",
      " [[ 0.41636829  0.41636829  0.41636829]\n",
      "  [ 0.30980392  0.31372549  0.29019608]\n",
      "  [ 0.3455243   0.33870418  0.31943734]\n",
      "  ..., \n",
      "  [ 0.9372549   0.9372549   0.9372549 ]\n",
      "  [ 0.9372549   0.9372549   0.9372549 ]\n",
      "  [ 0.9372549   0.9372549   0.9372549 ]]\n",
      "\n",
      " ..., \n",
      " [[ 0.25882353  0.26666667  0.23137255]\n",
      "  [ 0.25669224  0.26095482  0.22745098]\n",
      "  [ 0.25669224  0.26453538  0.22071611]\n",
      "  ..., \n",
      "  [ 0.30306905  0.27630009  0.25098039]\n",
      "  [ 0.28346121  0.26777494  0.2599318 ]\n",
      "  [ 0.28985507  0.28167093  0.26564365]]\n",
      "\n",
      " [[ 0.26146633  0.24970162  0.21696505]\n",
      "  [ 0.27067349  0.27195226  0.26683717]\n",
      "  [ 0.29556692  0.29820972  0.28763853]\n",
      "  ..., \n",
      "  [ 0.27178176  0.25481671  0.24441603]\n",
      "  [ 0.26794544  0.2483376   0.24049446]\n",
      "  [ 0.30716113  0.27706735  0.26146633]]\n",
      "\n",
      " [[ 0.2827792   0.28584825  0.26359761]\n",
      "  [ 0.27757886  0.28107417  0.26709292]\n",
      "  [ 0.28064791  0.28064791  0.28064791]\n",
      "  ..., \n",
      "  [ 0.26624041  0.2627451   0.2627451 ]\n",
      "  [ 0.27101449  0.27101449  0.27101449]\n",
      "  [ 0.27885763  0.25924979  0.24441603]]]\n",
      "-0.8699999999999999\n"
     ]
    },
    {
     "data": {
      "image/png": "[encoded data removed]",
      "text/plain": [
       "<matplotlib.figure.Figure at 0x1d2883f3358>"
      ]
     },
     "metadata": {},
     "output_type": "display_data"
    }
   ],
   "source": [
    "\n",
    "image = images[140]\n",
    "print(images[23])\n",
    "print(labels[140])\n",
    "io.imshow(image)\n",
    "io.show()"
   ]
  },
  {
   "cell_type": "code",
   "execution_count": 7,
   "metadata": {
    "collapsed": true
   },
   "outputs": [],
   "source": [
    "\n",
    "images = np.asarray(images)\n",
    "images = images.reshape(len(images),width,height, 3)"
   ]
  },
  {
   "cell_type": "code",
   "execution_count": 8,
   "metadata": {},
   "outputs": [
    {
     "name": "stdout",
     "output_type": "stream",
     "text": [
      "labels:  (1533,) \n",
      "images:  (1533, 128, 92, 3)\n"
     ]
    }
   ],
   "source": [
    "labels = np.array(labels)\n",
    "images = np.array(images)\n",
    "print(\"labels: \", labels.shape, \"\\nimages: \", images.shape)"
   ]
  },
  {
   "cell_type": "code",
   "execution_count": 9,
   "metadata": {
    "collapsed": true
   },
   "outputs": [],
   "source": [
    "maxLength = trainingIndex\n",
    "global currentPos\n",
    "currentPos = 0\n",
    "def nextTraining(batch_size):\n",
    "    \"\"\" Return a batch of data. When dataset end is reached, start over.\n",
    "    \"\"\"\n",
    "    #if self.batch_id == len(self.data):\n",
    "    #    self.batch_id = 0\n",
    "    #batch_data = (self.data[self.batch_id:min(self.batch_id +\n",
    "    #                                          batch_size, len(self.data))])\n",
    "    #batch_labels = (self.labels[self.batch_id:min(self.batch_id +\n",
    "    #                                          batch_size, len(self.data))])\n",
    "    #batch_seqlen = (self.seqlen[self.batch_id:min(self.batch_id +\n",
    "    #                                          batch_size, len(self.data))])\n",
    "    #self.batch_id = min(self.batch_id + batch_size, len(self.data))\n",
    "    global currentPos\n",
    "    currentPos = currentPos + batch_size\n",
    "    maxPos = currentPos + batch_size\n",
    "    if(maxPos>maxLength):\n",
    "        currentPos = 0\n",
    "        maxPos = currentPos + batch_size\n",
    "    batch_data = (images[currentPos:maxPos])\n",
    "    batch_labels = (labels[currentPos:maxPos])\n",
    "    return batch_data, batch_labels\n",
    "\n"
   ]
  },
  {
   "cell_type": "code",
   "execution_count": 10,
   "metadata": {
    "collapsed": true
   },
   "outputs": [],
   "source": [
    "maxTestingLength = len(labels)\n",
    "global currentTestingPos\n",
    "global minIndex \n",
    "minIndex = trainingIndex\n",
    "currentTestingPos = minIndex\n",
    "\n",
    "def nextTesting(batch_size):\n",
    "    global currentTestingPos\n",
    "    global minIndex\n",
    "    currentTestingPos = currentTestingPos + batch_size\n",
    "    maxPos = currentTestingPos + batch_size\n",
    "    if(maxPos>maxTestingLength):\n",
    "        currentTestingPos = minIndex\n",
    "        maxPos = currentTestingPos + batch_size\n",
    "    batch_data = (images[currentTestingPos:maxPos])\n",
    "    batch_labels = (labels[currentTestingPos:maxPos])\n",
    "    return batch_data, batch_labels"
   ]
  },
  {
   "cell_type": "code",
   "execution_count": 11,
   "metadata": {},
   "outputs": [
    {
     "name": "stdout",
     "output_type": "stream",
     "text": [
      "(128, 128, 92, 3)\n",
      "[-0.72  0.55 -1.05  2.44 -4.51  3.1  -4.16  4.71 -1.98 -2.17  0.91 -0.6\n",
      " -0.87  0.75  0.93 -2.41 -2.09 -1.34  0.59 -1.59  2.29  0.77  0.92  2.46\n",
      "  3.73 -5.6   0.66 -0.91  1.35  3.72 -3.62 -1.25  0.63 -2.68  3.23  0.83\n",
      "  0.52 -0.86 -1.1  -0.67 -0.74  1.35 -0.63  0.63 -1.04  0.98  1.    0.8\n",
      " -0.9   0.85 -0.73  6.32  2.81  1.01 -0.63  2.52  2.59  3.1   3.12  6.7\n",
      "  2.23 -0.62  0.88 -2.57 -1.59 -1.75 -2.86 -4.49 -3.06 -2.81 -3.57 -3.49\n",
      " -2.29 -1.52  0.63  0.93  5.88  3.7   3.05  4.08  6.49  6.04  4.51  0.89\n",
      "  0.82 -0.68 -0.9   0.83 -1.44  2.17  3.5   5.12  5.83  3.86  5.9   2.81\n",
      " -0.74  0.79  2.74 -0.99  2.33  3.18 -2.45  1.26 -1.35 -2.19 -1.9  -0.85\n",
      " -1.43 -1.21 -1.01 -0.85 -2.25 -0.59 -1.51 -2.88 -1.57 -0.85 -2.02 -1.27\n",
      " -0.95 -1.39 -0.94 -0.71 -0.6  -1.62 -1.14 -1.12]\n"
     ]
    }
   ],
   "source": [
    "x, y = nextTraining(128)\n",
    "print(x.shape)\n",
    "print(y)\n",
    "\n",
    "cellInitialized = 0"
   ]
  },
  {
   "cell_type": "code",
   "execution_count": 13,
   "metadata": {},
   "outputs": [
    {
     "ename": "ResourceExhaustedError",
     "evalue": "OOM when allocating tensor with shape[35328,1]\n\t [[Node: Variable/Assign = Assign[T=DT_FLOAT, _class=[\"loc:@Variable\"], use_locking=true, validate_shape=true, _device=\"/job:localhost/replica:0/task:0/gpu:0\"](Variable, zeros)]]\n\nCaused by op 'Variable/Assign', defined at:\n  File \"c:\\users\\ndmmc\\appdata\\local\\programs\\python\\python35\\lib\\runpy.py\", line 184, in _run_module_as_main\n    \"__main__\", mod_spec)\n  File \"c:\\users\\ndmmc\\appdata\\local\\programs\\python\\python35\\lib\\runpy.py\", line 85, in _run_code\n    exec(code, run_globals)\n  File \"c:\\users\\ndmmc\\appdata\\local\\programs\\python\\python35\\lib\\site-packages\\ipykernel_launcher.py\", line 16, in <module>\n    app.launch_new_instance()\n  File \"c:\\users\\ndmmc\\appdata\\local\\programs\\python\\python35\\lib\\site-packages\\traitlets\\config\\application.py\", line 658, in launch_instance\n    app.start()\n  File \"c:\\users\\ndmmc\\appdata\\local\\programs\\python\\python35\\lib\\site-packages\\ipykernel\\kernelapp.py\", line 477, in start\n    ioloop.IOLoop.instance().start()\n  File \"c:\\users\\ndmmc\\appdata\\local\\programs\\python\\python35\\lib\\site-packages\\zmq\\eventloop\\ioloop.py\", line 177, in start\n    super(ZMQIOLoop, self).start()\n  File \"c:\\users\\ndmmc\\appdata\\local\\programs\\python\\python35\\lib\\site-packages\\tornado\\ioloop.py\", line 888, in start\n    handler_func(fd_obj, events)\n  File \"c:\\users\\ndmmc\\appdata\\local\\programs\\python\\python35\\lib\\site-packages\\tornado\\stack_context.py\", line 277, in null_wrapper\n    return fn(*args, **kwargs)\n  File \"c:\\users\\ndmmc\\appdata\\local\\programs\\python\\python35\\lib\\site-packages\\zmq\\eventloop\\zmqstream.py\", line 440, in _handle_events\n    self._handle_recv()\n  File \"c:\\users\\ndmmc\\appdata\\local\\programs\\python\\python35\\lib\\site-packages\\zmq\\eventloop\\zmqstream.py\", line 472, in _handle_recv\n    self._run_callback(callback, msg)\n  File \"c:\\users\\ndmmc\\appdata\\local\\programs\\python\\python35\\lib\\site-packages\\zmq\\eventloop\\zmqstream.py\", line 414, in _run_callback\n    callback(*args, **kwargs)\n  File \"c:\\users\\ndmmc\\appdata\\local\\programs\\python\\python35\\lib\\site-packages\\tornado\\stack_context.py\", line 277, in null_wrapper\n    return fn(*args, **kwargs)\n  File \"c:\\users\\ndmmc\\appdata\\local\\programs\\python\\python35\\lib\\site-packages\\ipykernel\\kernelbase.py\", line 283, in dispatcher\n    return self.dispatch_shell(stream, msg)\n  File \"c:\\users\\ndmmc\\appdata\\local\\programs\\python\\python35\\lib\\site-packages\\ipykernel\\kernelbase.py\", line 235, in dispatch_shell\n    handler(stream, idents, msg)\n  File \"c:\\users\\ndmmc\\appdata\\local\\programs\\python\\python35\\lib\\site-packages\\ipykernel\\kernelbase.py\", line 399, in execute_request\n    user_expressions, allow_stdin)\n  File \"c:\\users\\ndmmc\\appdata\\local\\programs\\python\\python35\\lib\\site-packages\\ipykernel\\ipkernel.py\", line 196, in do_execute\n    res = shell.run_cell(code, store_history=store_history, silent=silent)\n  File \"c:\\users\\ndmmc\\appdata\\local\\programs\\python\\python35\\lib\\site-packages\\ipykernel\\zmqshell.py\", line 533, in run_cell\n    return super(ZMQInteractiveShell, self).run_cell(*args, **kwargs)\n  File \"c:\\users\\ndmmc\\appdata\\local\\programs\\python\\python35\\lib\\site-packages\\IPython\\core\\interactiveshell.py\", line 2683, in run_cell\n    interactivity=interactivity, compiler=compiler, result=result)\n  File \"c:\\users\\ndmmc\\appdata\\local\\programs\\python\\python35\\lib\\site-packages\\IPython\\core\\interactiveshell.py\", line 2787, in run_ast_nodes\n    if self.run_code(code, result):\n  File \"c:\\users\\ndmmc\\appdata\\local\\programs\\python\\python35\\lib\\site-packages\\IPython\\core\\interactiveshell.py\", line 2847, in run_code\n    exec(code_obj, self.user_global_ns, self.user_ns)\n  File \"<ipython-input-4-80d6f18e58d4>\", line 34, in <module>\n    W = tf.Variable(tf.zeros([n_input,n_classes]))\n  File \"c:\\users\\ndmmc\\appdata\\local\\programs\\python\\python35\\lib\\site-packages\\tensorflow\\python\\ops\\variables.py\", line 197, in __init__\n    expected_shape=expected_shape)\n  File \"c:\\users\\ndmmc\\appdata\\local\\programs\\python\\python35\\lib\\site-packages\\tensorflow\\python\\ops\\variables.py\", line 306, in _init_from_args\n    validate_shape=validate_shape).op\n  File \"c:\\users\\ndmmc\\appdata\\local\\programs\\python\\python35\\lib\\site-packages\\tensorflow\\python\\ops\\state_ops.py\", line 270, in assign\n    validate_shape=validate_shape)\n  File \"c:\\users\\ndmmc\\appdata\\local\\programs\\python\\python35\\lib\\site-packages\\tensorflow\\python\\ops\\gen_state_ops.py\", line 47, in assign\n    use_locking=use_locking, name=name)\n  File \"c:\\users\\ndmmc\\appdata\\local\\programs\\python\\python35\\lib\\site-packages\\tensorflow\\python\\framework\\op_def_library.py\", line 768, in apply_op\n    op_def=op_def)\n  File \"c:\\users\\ndmmc\\appdata\\local\\programs\\python\\python35\\lib\\site-packages\\tensorflow\\python\\framework\\ops.py\", line 2336, in create_op\n    original_op=self._default_original_op, op_def=op_def)\n  File \"c:\\users\\ndmmc\\appdata\\local\\programs\\python\\python35\\lib\\site-packages\\tensorflow\\python\\framework\\ops.py\", line 1228, in __init__\n    self._traceback = _extract_stack()\n\nResourceExhaustedError (see above for traceback): OOM when allocating tensor with shape[35328,1]\n\t [[Node: Variable/Assign = Assign[T=DT_FLOAT, _class=[\"loc:@Variable\"], use_locking=true, validate_shape=true, _device=\"/job:localhost/replica:0/task:0/gpu:0\"](Variable, zeros)]]\n",
     "output_type": "error",
     "traceback": [
      "\u001b[1;31m---------------------------------------------------------------------------\u001b[0m",
      "\u001b[1;31mResourceExhaustedError\u001b[0m                    Traceback (most recent call last)",
      "\u001b[1;32mc:\\users\\ndmmc\\appdata\\local\\programs\\python\\python35\\lib\\site-packages\\tensorflow\\python\\client\\session.py\u001b[0m in \u001b[0;36m_do_call\u001b[1;34m(self, fn, *args)\u001b[0m\n\u001b[0;32m   1038\u001b[0m     \u001b[1;32mtry\u001b[0m\u001b[1;33m:\u001b[0m\u001b[1;33m\u001b[0m\u001b[0m\n\u001b[1;32m-> 1039\u001b[1;33m       \u001b[1;32mreturn\u001b[0m \u001b[0mfn\u001b[0m\u001b[1;33m(\u001b[0m\u001b[1;33m*\u001b[0m\u001b[0margs\u001b[0m\u001b[1;33m)\u001b[0m\u001b[1;33m\u001b[0m\u001b[0m\n\u001b[0m\u001b[0;32m   1040\u001b[0m     \u001b[1;32mexcept\u001b[0m \u001b[0merrors\u001b[0m\u001b[1;33m.\u001b[0m\u001b[0mOpError\u001b[0m \u001b[1;32mas\u001b[0m \u001b[0me\u001b[0m\u001b[1;33m:\u001b[0m\u001b[1;33m\u001b[0m\u001b[0m\n",
      "\u001b[1;32mc:\\users\\ndmmc\\appdata\\local\\programs\\python\\python35\\lib\\site-packages\\tensorflow\\python\\client\\session.py\u001b[0m in \u001b[0;36m_run_fn\u001b[1;34m(session, feed_dict, fetch_list, target_list, options, run_metadata)\u001b[0m\n\u001b[0;32m   1020\u001b[0m                                  \u001b[0mfeed_dict\u001b[0m\u001b[1;33m,\u001b[0m \u001b[0mfetch_list\u001b[0m\u001b[1;33m,\u001b[0m \u001b[0mtarget_list\u001b[0m\u001b[1;33m,\u001b[0m\u001b[1;33m\u001b[0m\u001b[0m\n\u001b[1;32m-> 1021\u001b[1;33m                                  status, run_metadata)\n\u001b[0m\u001b[0;32m   1022\u001b[0m \u001b[1;33m\u001b[0m\u001b[0m\n",
      "\u001b[1;32mc:\\users\\ndmmc\\appdata\\local\\programs\\python\\python35\\lib\\contextlib.py\u001b[0m in \u001b[0;36m__exit__\u001b[1;34m(self, type, value, traceback)\u001b[0m\n\u001b[0;32m     65\u001b[0m             \u001b[1;32mtry\u001b[0m\u001b[1;33m:\u001b[0m\u001b[1;33m\u001b[0m\u001b[0m\n\u001b[1;32m---> 66\u001b[1;33m                 \u001b[0mnext\u001b[0m\u001b[1;33m(\u001b[0m\u001b[0mself\u001b[0m\u001b[1;33m.\u001b[0m\u001b[0mgen\u001b[0m\u001b[1;33m)\u001b[0m\u001b[1;33m\u001b[0m\u001b[0m\n\u001b[0m\u001b[0;32m     67\u001b[0m             \u001b[1;32mexcept\u001b[0m \u001b[0mStopIteration\u001b[0m\u001b[1;33m:\u001b[0m\u001b[1;33m\u001b[0m\u001b[0m\n",
      "\u001b[1;32mc:\\users\\ndmmc\\appdata\\local\\programs\\python\\python35\\lib\\site-packages\\tensorflow\\python\\framework\\errors_impl.py\u001b[0m in \u001b[0;36mraise_exception_on_not_ok_status\u001b[1;34m()\u001b[0m\n\u001b[0;32m    465\u001b[0m           \u001b[0mcompat\u001b[0m\u001b[1;33m.\u001b[0m\u001b[0mas_text\u001b[0m\u001b[1;33m(\u001b[0m\u001b[0mpywrap_tensorflow\u001b[0m\u001b[1;33m.\u001b[0m\u001b[0mTF_Message\u001b[0m\u001b[1;33m(\u001b[0m\u001b[0mstatus\u001b[0m\u001b[1;33m)\u001b[0m\u001b[1;33m)\u001b[0m\u001b[1;33m,\u001b[0m\u001b[1;33m\u001b[0m\u001b[0m\n\u001b[1;32m--> 466\u001b[1;33m           pywrap_tensorflow.TF_GetCode(status))\n\u001b[0m\u001b[0;32m    467\u001b[0m   \u001b[1;32mfinally\u001b[0m\u001b[1;33m:\u001b[0m\u001b[1;33m\u001b[0m\u001b[0m\n",
      "\u001b[1;31mResourceExhaustedError\u001b[0m: OOM when allocating tensor with shape[35328,1]\n\t [[Node: Variable/Assign = Assign[T=DT_FLOAT, _class=[\"loc:@Variable\"], use_locking=true, validate_shape=true, _device=\"/job:localhost/replica:0/task:0/gpu:0\"](Variable, zeros)]]",
      "\nDuring handling of the above exception, another exception occurred:\n",
      "\u001b[1;31mResourceExhaustedError\u001b[0m                    Traceback (most recent call last)",
      "\u001b[1;32m<ipython-input-13-80d6f18e58d4>\u001b[0m in \u001b[0;36m<module>\u001b[1;34m()\u001b[0m\n\u001b[0;32m     19\u001b[0m '''\n\u001b[0;32m     20\u001b[0m \u001b[0msess\u001b[0m \u001b[1;33m=\u001b[0m \u001b[0mtf\u001b[0m\u001b[1;33m.\u001b[0m\u001b[0mInteractiveSession\u001b[0m\u001b[1;33m(\u001b[0m\u001b[1;33m)\u001b[0m\u001b[1;33m\u001b[0m\u001b[0m\n\u001b[1;32m---> 21\u001b[1;33m \u001b[0msess\u001b[0m\u001b[1;33m.\u001b[0m\u001b[0mrun\u001b[0m\u001b[1;33m(\u001b[0m\u001b[0mtf\u001b[0m\u001b[1;33m.\u001b[0m\u001b[0mglobal_variables_initializer\u001b[0m\u001b[1;33m(\u001b[0m\u001b[1;33m)\u001b[0m\u001b[1;33m)\u001b[0m\u001b[1;33m\u001b[0m\u001b[0m\n\u001b[0m\u001b[0;32m     22\u001b[0m \u001b[1;31m# Parameters\u001b[0m\u001b[1;33m\u001b[0m\u001b[1;33m\u001b[0m\u001b[0m\n\u001b[0;32m     23\u001b[0m \u001b[0mlearning_rate\u001b[0m \u001b[1;33m=\u001b[0m \u001b[1;36m0.0001\u001b[0m\u001b[1;33m\u001b[0m\u001b[0m\n",
      "\u001b[1;32mc:\\users\\ndmmc\\appdata\\local\\programs\\python\\python35\\lib\\site-packages\\tensorflow\\python\\client\\session.py\u001b[0m in \u001b[0;36mrun\u001b[1;34m(self, fetches, feed_dict, options, run_metadata)\u001b[0m\n\u001b[0;32m    776\u001b[0m     \u001b[1;32mtry\u001b[0m\u001b[1;33m:\u001b[0m\u001b[1;33m\u001b[0m\u001b[0m\n\u001b[0;32m    777\u001b[0m       result = self._run(None, fetches, feed_dict, options_ptr,\n\u001b[1;32m--> 778\u001b[1;33m                          run_metadata_ptr)\n\u001b[0m\u001b[0;32m    779\u001b[0m       \u001b[1;32mif\u001b[0m \u001b[0mrun_metadata\u001b[0m\u001b[1;33m:\u001b[0m\u001b[1;33m\u001b[0m\u001b[0m\n\u001b[0;32m    780\u001b[0m         \u001b[0mproto_data\u001b[0m \u001b[1;33m=\u001b[0m \u001b[0mtf_session\u001b[0m\u001b[1;33m.\u001b[0m\u001b[0mTF_GetBuffer\u001b[0m\u001b[1;33m(\u001b[0m\u001b[0mrun_metadata_ptr\u001b[0m\u001b[1;33m)\u001b[0m\u001b[1;33m\u001b[0m\u001b[0m\n",
      "\u001b[1;32mc:\\users\\ndmmc\\appdata\\local\\programs\\python\\python35\\lib\\site-packages\\tensorflow\\python\\client\\session.py\u001b[0m in \u001b[0;36m_run\u001b[1;34m(self, handle, fetches, feed_dict, options, run_metadata)\u001b[0m\n\u001b[0;32m    980\u001b[0m     \u001b[1;32mif\u001b[0m \u001b[0mfinal_fetches\u001b[0m \u001b[1;32mor\u001b[0m \u001b[0mfinal_targets\u001b[0m\u001b[1;33m:\u001b[0m\u001b[1;33m\u001b[0m\u001b[0m\n\u001b[0;32m    981\u001b[0m       results = self._do_run(handle, final_targets, final_fetches,\n\u001b[1;32m--> 982\u001b[1;33m                              feed_dict_string, options, run_metadata)\n\u001b[0m\u001b[0;32m    983\u001b[0m     \u001b[1;32melse\u001b[0m\u001b[1;33m:\u001b[0m\u001b[1;33m\u001b[0m\u001b[0m\n\u001b[0;32m    984\u001b[0m       \u001b[0mresults\u001b[0m \u001b[1;33m=\u001b[0m \u001b[1;33m[\u001b[0m\u001b[1;33m]\u001b[0m\u001b[1;33m\u001b[0m\u001b[0m\n",
      "\u001b[1;32mc:\\users\\ndmmc\\appdata\\local\\programs\\python\\python35\\lib\\site-packages\\tensorflow\\python\\client\\session.py\u001b[0m in \u001b[0;36m_do_run\u001b[1;34m(self, handle, target_list, fetch_list, feed_dict, options, run_metadata)\u001b[0m\n\u001b[0;32m   1030\u001b[0m     \u001b[1;32mif\u001b[0m \u001b[0mhandle\u001b[0m \u001b[1;32mis\u001b[0m \u001b[1;32mNone\u001b[0m\u001b[1;33m:\u001b[0m\u001b[1;33m\u001b[0m\u001b[0m\n\u001b[0;32m   1031\u001b[0m       return self._do_call(_run_fn, self._session, feed_dict, fetch_list,\n\u001b[1;32m-> 1032\u001b[1;33m                            target_list, options, run_metadata)\n\u001b[0m\u001b[0;32m   1033\u001b[0m     \u001b[1;32melse\u001b[0m\u001b[1;33m:\u001b[0m\u001b[1;33m\u001b[0m\u001b[0m\n\u001b[0;32m   1034\u001b[0m       return self._do_call(_prun_fn, self._session, handle, feed_dict,\n",
      "\u001b[1;32mc:\\users\\ndmmc\\appdata\\local\\programs\\python\\python35\\lib\\site-packages\\tensorflow\\python\\client\\session.py\u001b[0m in \u001b[0;36m_do_call\u001b[1;34m(self, fn, *args)\u001b[0m\n\u001b[0;32m   1050\u001b[0m         \u001b[1;32mexcept\u001b[0m \u001b[0mKeyError\u001b[0m\u001b[1;33m:\u001b[0m\u001b[1;33m\u001b[0m\u001b[0m\n\u001b[0;32m   1051\u001b[0m           \u001b[1;32mpass\u001b[0m\u001b[1;33m\u001b[0m\u001b[0m\n\u001b[1;32m-> 1052\u001b[1;33m       \u001b[1;32mraise\u001b[0m \u001b[0mtype\u001b[0m\u001b[1;33m(\u001b[0m\u001b[0me\u001b[0m\u001b[1;33m)\u001b[0m\u001b[1;33m(\u001b[0m\u001b[0mnode_def\u001b[0m\u001b[1;33m,\u001b[0m \u001b[0mop\u001b[0m\u001b[1;33m,\u001b[0m \u001b[0mmessage\u001b[0m\u001b[1;33m)\u001b[0m\u001b[1;33m\u001b[0m\u001b[0m\n\u001b[0m\u001b[0;32m   1053\u001b[0m \u001b[1;33m\u001b[0m\u001b[0m\n\u001b[0;32m   1054\u001b[0m   \u001b[1;32mdef\u001b[0m \u001b[0m_extend_graph\u001b[0m\u001b[1;33m(\u001b[0m\u001b[0mself\u001b[0m\u001b[1;33m)\u001b[0m\u001b[1;33m:\u001b[0m\u001b[1;33m\u001b[0m\u001b[0m\n",
      "\u001b[1;31mResourceExhaustedError\u001b[0m: OOM when allocating tensor with shape[35328,1]\n\t [[Node: Variable/Assign = Assign[T=DT_FLOAT, _class=[\"loc:@Variable\"], use_locking=true, validate_shape=true, _device=\"/job:localhost/replica:0/task:0/gpu:0\"](Variable, zeros)]]\n\nCaused by op 'Variable/Assign', defined at:\n  File \"c:\\users\\ndmmc\\appdata\\local\\programs\\python\\python35\\lib\\runpy.py\", line 184, in _run_module_as_main\n    \"__main__\", mod_spec)\n  File \"c:\\users\\ndmmc\\appdata\\local\\programs\\python\\python35\\lib\\runpy.py\", line 85, in _run_code\n    exec(code, run_globals)\n  File \"c:\\users\\ndmmc\\appdata\\local\\programs\\python\\python35\\lib\\site-packages\\ipykernel_launcher.py\", line 16, in <module>\n    app.launch_new_instance()\n  File \"c:\\users\\ndmmc\\appdata\\local\\programs\\python\\python35\\lib\\site-packages\\traitlets\\config\\application.py\", line 658, in launch_instance\n    app.start()\n  File \"c:\\users\\ndmmc\\appdata\\local\\programs\\python\\python35\\lib\\site-packages\\ipykernel\\kernelapp.py\", line 477, in start\n    ioloop.IOLoop.instance().start()\n  File \"c:\\users\\ndmmc\\appdata\\local\\programs\\python\\python35\\lib\\site-packages\\zmq\\eventloop\\ioloop.py\", line 177, in start\n    super(ZMQIOLoop, self).start()\n  File \"c:\\users\\ndmmc\\appdata\\local\\programs\\python\\python35\\lib\\site-packages\\tornado\\ioloop.py\", line 888, in start\n    handler_func(fd_obj, events)\n  File \"c:\\users\\ndmmc\\appdata\\local\\programs\\python\\python35\\lib\\site-packages\\tornado\\stack_context.py\", line 277, in null_wrapper\n    return fn(*args, **kwargs)\n  File \"c:\\users\\ndmmc\\appdata\\local\\programs\\python\\python35\\lib\\site-packages\\zmq\\eventloop\\zmqstream.py\", line 440, in _handle_events\n    self._handle_recv()\n  File \"c:\\users\\ndmmc\\appdata\\local\\programs\\python\\python35\\lib\\site-packages\\zmq\\eventloop\\zmqstream.py\", line 472, in _handle_recv\n    self._run_callback(callback, msg)\n  File \"c:\\users\\ndmmc\\appdata\\local\\programs\\python\\python35\\lib\\site-packages\\zmq\\eventloop\\zmqstream.py\", line 414, in _run_callback\n    callback(*args, **kwargs)\n  File \"c:\\users\\ndmmc\\appdata\\local\\programs\\python\\python35\\lib\\site-packages\\tornado\\stack_context.py\", line 277, in null_wrapper\n    return fn(*args, **kwargs)\n  File \"c:\\users\\ndmmc\\appdata\\local\\programs\\python\\python35\\lib\\site-packages\\ipykernel\\kernelbase.py\", line 283, in dispatcher\n    return self.dispatch_shell(stream, msg)\n  File \"c:\\users\\ndmmc\\appdata\\local\\programs\\python\\python35\\lib\\site-packages\\ipykernel\\kernelbase.py\", line 235, in dispatch_shell\n    handler(stream, idents, msg)\n  File \"c:\\users\\ndmmc\\appdata\\local\\programs\\python\\python35\\lib\\site-packages\\ipykernel\\kernelbase.py\", line 399, in execute_request\n    user_expressions, allow_stdin)\n  File \"c:\\users\\ndmmc\\appdata\\local\\programs\\python\\python35\\lib\\site-packages\\ipykernel\\ipkernel.py\", line 196, in do_execute\n    res = shell.run_cell(code, store_history=store_history, silent=silent)\n  File \"c:\\users\\ndmmc\\appdata\\local\\programs\\python\\python35\\lib\\site-packages\\ipykernel\\zmqshell.py\", line 533, in run_cell\n    return super(ZMQInteractiveShell, self).run_cell(*args, **kwargs)\n  File \"c:\\users\\ndmmc\\appdata\\local\\programs\\python\\python35\\lib\\site-packages\\IPython\\core\\interactiveshell.py\", line 2683, in run_cell\n    interactivity=interactivity, compiler=compiler, result=result)\n  File \"c:\\users\\ndmmc\\appdata\\local\\programs\\python\\python35\\lib\\site-packages\\IPython\\core\\interactiveshell.py\", line 2787, in run_ast_nodes\n    if self.run_code(code, result):\n  File \"c:\\users\\ndmmc\\appdata\\local\\programs\\python\\python35\\lib\\site-packages\\IPython\\core\\interactiveshell.py\", line 2847, in run_code\n    exec(code_obj, self.user_global_ns, self.user_ns)\n  File \"<ipython-input-4-80d6f18e58d4>\", line 34, in <module>\n    W = tf.Variable(tf.zeros([n_input,n_classes]))\n  File \"c:\\users\\ndmmc\\appdata\\local\\programs\\python\\python35\\lib\\site-packages\\tensorflow\\python\\ops\\variables.py\", line 197, in __init__\n    expected_shape=expected_shape)\n  File \"c:\\users\\ndmmc\\appdata\\local\\programs\\python\\python35\\lib\\site-packages\\tensorflow\\python\\ops\\variables.py\", line 306, in _init_from_args\n    validate_shape=validate_shape).op\n  File \"c:\\users\\ndmmc\\appdata\\local\\programs\\python\\python35\\lib\\site-packages\\tensorflow\\python\\ops\\state_ops.py\", line 270, in assign\n    validate_shape=validate_shape)\n  File \"c:\\users\\ndmmc\\appdata\\local\\programs\\python\\python35\\lib\\site-packages\\tensorflow\\python\\ops\\gen_state_ops.py\", line 47, in assign\n    use_locking=use_locking, name=name)\n  File \"c:\\users\\ndmmc\\appdata\\local\\programs\\python\\python35\\lib\\site-packages\\tensorflow\\python\\framework\\op_def_library.py\", line 768, in apply_op\n    op_def=op_def)\n  File \"c:\\users\\ndmmc\\appdata\\local\\programs\\python\\python35\\lib\\site-packages\\tensorflow\\python\\framework\\ops.py\", line 2336, in create_op\n    original_op=self._default_original_op, op_def=op_def)\n  File \"c:\\users\\ndmmc\\appdata\\local\\programs\\python\\python35\\lib\\site-packages\\tensorflow\\python\\framework\\ops.py\", line 1228, in __init__\n    self._traceback = _extract_stack()\n\nResourceExhaustedError (see above for traceback): OOM when allocating tensor with shape[35328,1]\n\t [[Node: Variable/Assign = Assign[T=DT_FLOAT, _class=[\"loc:@Variable\"], use_locking=true, validate_shape=true, _device=\"/job:localhost/replica:0/task:0/gpu:0\"](Variable, zeros)]]\n"
     ]
    }
   ],
   "source": [
    "'''\n",
    "A Recurrent Neural Network (LSTM) implementation example using TensorFlow library.\n",
    "This example is using the MNIST database of handwritten digits (http://yann.lecun.com/exdb/mnist/)\n",
    "Long Short Term Memory paper: http://deeplearning.cs.cmu.edu/pdfs/Hochreiter97_lstm.pdf\n",
    "\n",
    "Author: Aymeric Damien\n",
    "Project: https://github.com/aymericdamien/TensorFlow-Examples/\n",
    "'''\n",
    "\n",
    "from __future__ import print_function\n",
    "\n",
    "import tensorflow as tf\n",
    "from tensorflow.contrib import rnn\n",
    "\n",
    "'''\n",
    "To classify images using a recurrent neural network, we consider every image\n",
    "row as a sequence of pixels. Because MNIST image shape is 28*28px, we will then\n",
    "handle 28 sequences of 28 steps for every sample.\n",
    "'''\n",
    "sess = tf.InteractiveSession()\n",
    "sess.run(tf.global_variables_initializer()) \n",
    "# Parameters\n",
    "learning_rate = 0.0001\n",
    "training_epochs = 15\n",
    "batch_size = 64\n",
    "display_step = 10\n",
    "\n",
    "# Network Parameters\n",
    "n_input = width*height*3 # MNIST data input (img shape: 28*28)\n",
    "n_classes = 1 # MNIST total classes (0-9 digits)\n",
    "\n",
    "x = tf.placeholder(tf.float32, shape=[None, n_input])\n",
    "y = tf.placeholder(tf.float32, shape=[None, n_classes])\n",
    "W = tf.Variable(tf.zeros([n_input,n_classes]))\n",
    "b = tf.Variable(tf.zeros([n_classes]))\n",
    "\n",
    "\n",
    "def weight_variable(shape):\n",
    "    initial = tf.truncated_normal(shape, stddev=0.1)\n",
    "    return tf.Variable(initial)\n",
    "\n",
    "def bias_variable(shape):\n",
    "    initial = tf.constant(0.1, shape=shape)\n",
    "    return tf.Variable(initial)\n",
    "\n",
    "def conv2d(x, W):\n",
    "    return tf.nn.conv2d(x, W, strides=[1, 1, 1, 1], padding='SAME')\n",
    "\n",
    "def max_pool_2x2(x):\n",
    "    return tf.nn.max_pool(x, ksize=[1, 2, 2, 1],\n",
    "                        strides=[1, 2, 2, 1], padding='SAME')\n",
    "\n",
    "W_conv1 = weight_variable([9, 9, 3, 34])\n",
    "b_conv1 = bias_variable([34])\n",
    "\n",
    "x_image = tf.reshape(x, [-1,92,128,3])\n",
    "\n",
    "h_conv1 = tf.nn.relu(conv2d(x_image, W_conv1) + b_conv1)\n",
    "h_pool1 = max_pool_2x2(h_conv1)\n",
    "\n",
    "W_conv2 = weight_variable([5, 5, 34, 64])\n",
    "b_conv2 = bias_variable([64])\n",
    "\n",
    "h_conv2 = tf.nn.relu(conv2d(h_pool1, W_conv2) + b_conv2)\n",
    "h_pool2 = max_pool_2x2(h_conv2)\n",
    "\n",
    "W_fc1 = weight_variable([32 * 23 * 64, 1024])\n",
    "b_fc1 = bias_variable([1024])\n",
    "\n",
    "h_pool2_flat = tf.reshape(h_pool2, [-1,32 * 23 *64])\n",
    "h_fc1 = tf.nn.relu(tf.matmul(h_pool2_flat, W_fc1) + b_fc1)\n",
    "\n",
    "\n",
    "keep_prob = tf.placeholder(tf.float32)\n",
    "h_fc1_drop = tf.nn.dropout(h_fc1, keep_prob)\n",
    "\n",
    "W_fc2 = weight_variable([1024, 1])\n",
    "b_fc2 = bias_variable([1])\n",
    "\n",
    "y_conv = tf.matmul(h_fc1_drop, W_fc2) + b_fc2\n",
    "\n",
    "pred = y_conv\n",
    "\n",
    "accuracyFloor = tf.constant(0.1, tf.float32)\n",
    "\n",
    "# Define loss and optimizer\n",
    "loss = tf.maximum(tf.sqrt(tf.reduce_mean(tf.square(tf.subtract(pred, y)))),accuracyFloor)\n",
    "optimizer = tf.train.AdamOptimizer(learning_rate=learning_rate).minimize(loss)\n",
    "\n",
    "# Evaluate model\n",
    "#correct_pred = tf.equal(tf.argmax(pred,1), tf.argmax(y,1))\n",
    "accuracy = tf.sqrt(tf.reduce_mean(tf.square(tf.subtract(pred, y))))\n",
    "\n",
    "# Initializing the variables\n",
    "sess.run(tf.global_variables_initializer())\n",
    "\n"
   ]
  },
  {
   "cell_type": "code",
   "execution_count": 12,
   "metadata": {},
   "outputs": [
    {
     "ename": "TypeError",
     "evalue": "unhashable type: 'numpy.ndarray'",
     "output_type": "error",
     "traceback": [
      "\u001b[1;31m---------------------------------------------------------------------------\u001b[0m",
      "\u001b[1;31mTypeError\u001b[0m                                 Traceback (most recent call last)",
      "\u001b[1;32m<ipython-input-12-b15d4ee5ff80>\u001b[0m in \u001b[0;36m<module>\u001b[1;34m()\u001b[0m\n\u001b[0;32m      9\u001b[0m     \u001b[0mbatch_y\u001b[0m \u001b[1;33m=\u001b[0m \u001b[0mbatch_y\u001b[0m\u001b[1;33m.\u001b[0m\u001b[0mreshape\u001b[0m\u001b[1;33m(\u001b[0m\u001b[1;33m(\u001b[0m\u001b[0mbatch_size\u001b[0m\u001b[1;33m,\u001b[0m \u001b[1;36m1\u001b[0m\u001b[1;33m)\u001b[0m\u001b[1;33m)\u001b[0m\u001b[1;33m\u001b[0m\u001b[0m\n\u001b[0;32m     10\u001b[0m     \u001b[1;31m# Run optimization op (backprop)\u001b[0m\u001b[1;33m\u001b[0m\u001b[1;33m\u001b[0m\u001b[0m\n\u001b[1;32m---> 11\u001b[1;33m     \u001b[0msess\u001b[0m\u001b[1;33m.\u001b[0m\u001b[0mrun\u001b[0m\u001b[1;33m(\u001b[0m\u001b[0moptimizer\u001b[0m\u001b[1;33m,\u001b[0m \u001b[0mfeed_dict\u001b[0m\u001b[1;33m=\u001b[0m\u001b[1;33m{\u001b[0m\u001b[0mx\u001b[0m\u001b[1;33m:\u001b[0m \u001b[0mbatch_x\u001b[0m\u001b[1;33m,\u001b[0m \u001b[0my\u001b[0m\u001b[1;33m:\u001b[0m \u001b[0mbatch_y\u001b[0m\u001b[1;33m,\u001b[0m \u001b[0mkeep_prob\u001b[0m\u001b[1;33m:\u001b[0m \u001b[1;36m0.5\u001b[0m\u001b[1;33m}\u001b[0m\u001b[1;33m)\u001b[0m\u001b[1;33m\u001b[0m\u001b[0m\n\u001b[0m\u001b[0;32m     12\u001b[0m     \u001b[1;32mif\u001b[0m \u001b[0mstep\u001b[0m \u001b[1;33m%\u001b[0m \u001b[0mdisplay_step\u001b[0m \u001b[1;33m==\u001b[0m \u001b[1;36m0\u001b[0m\u001b[1;33m:\u001b[0m\u001b[1;33m\u001b[0m\u001b[0m\n\u001b[0;32m     13\u001b[0m         \u001b[1;31m# Calculate batch accuracy\u001b[0m\u001b[1;33m\u001b[0m\u001b[1;33m\u001b[0m\u001b[0m\n",
      "\u001b[1;31mTypeError\u001b[0m: unhashable type: 'numpy.ndarray'"
     ]
    }
   ],
   "source": [
    "training_iters = 2400000\n",
    "step =0\n",
    "display_step = 150\n",
    "# Keep training until reach max iterations\n",
    "while step * batch_size < training_iters:\n",
    "    batch_x, batch_y = nextTraining(batch_size)\n",
    "    # Reshape data to get 28 seq of 28 elements\n",
    "    batch_x = batch_x.reshape((batch_size, n_input))\n",
    "    batch_y = batch_y.reshape((batch_size, 1))\n",
    "    # Run optimization op (backprop)\n",
    "    sess.run(optimizer, feed_dict={x: batch_x, y: batch_y, keep_prob: 0.5})\n",
    "    if step % display_step == 0:\n",
    "        # Calculate batch accuracy\n",
    "        acc = sess.run(accuracy, feed_dict={x: batch_x, y: batch_y, keep_prob: 0.5})\n",
    "        # Calculate batch loss\n",
    "        cost = sess.run(loss, feed_dict={x: batch_x, y: batch_y, keep_prob: 0.5})\n",
    "        print(\"Iter \" + str(step*batch_size) + \", Minibatch Loss= \" + \\\n",
    "              \"{:.6f}\".format(cost) + \", Training Accuracy= \" + \\\n",
    "              \"{:.5f}\".format(acc))\n",
    "    step += 1\n",
    "print(\"Optimization Finished!\")\n"
   ]
  },
  {
   "cell_type": "code",
   "execution_count": null,
   "metadata": {
    "collapsed": true
   },
   "outputs": [],
   "source": []
  },
  {
   "cell_type": "code",
   "execution_count": null,
   "metadata": {
    "collapsed": true
   },
   "outputs": [],
   "source": [
    "#Speed accuracy\n",
    "\n",
    "step = 1\n",
    "totalMAE = 0\n",
    "correctDirectionCount = 0\n",
    "totalCount = 0\n",
    "threshold = 12\n",
    "# Calculate accuracy for 128 mnist test images\n",
    "while step * batch_size < (len(images)-trainingIndex):\n",
    "    test_data, test_label = nextTesting(batch_size)\n",
    "    test_data = test_data.reshape((batch_size, n_input))\n",
    "    test_label = test_label.reshape((batch_size, 1))\n",
    "    predAccuracy = sess.run(accuracy, feed_dict={x: test_data, y: test_label, keep_prob: 0.5})\n",
    "    results = sess.run(pred, feed_dict={x: test_data, keep_prob: 0.5})\n",
    "    #print(results)\n",
    "    #print(test_label)\n",
    "    for i in range(0,len(results)):\n",
    "        element = results[i] * test_label[i]\n",
    "        if(abs(test_label[i])>75):\n",
    "            continue\n",
    "        totalCount+=1\n",
    "        print(\"Actual:\", test_label[i],\"Guess:\",results[i],\"Delta\",element)\n",
    "        if element > 0:\n",
    "            correctDirectionCount+=1\n",
    "    totalMAE += predAccuracy\n",
    "    print(\"Testing Accuracy:\", predAccuracy)\n",
    "    step+=1\n",
    "print(\"Total MAE: \", (totalMAE/(step-1)))\n",
    "print(\"Turn percentage\", (totalCount/((step-1) * batch_size)))\n",
    "print (\"Correct Speed within threshold percentage \",(correctDirectionCount/totalCount))"
   ]
  },
  {
   "cell_type": "code",
   "execution_count": null,
   "metadata": {
    "collapsed": true
   },
   "outputs": [],
   "source": []
  }
 ],
 "metadata": {
  "kernelspec": {
   "display_name": "Python 2",
   "language": "python",
   "name": "python2"
  },
  "language_info": {
   "codemirror_mode": {
    "name": "ipython",
    "version": 2
   },
   "file_extension": ".py",
   "mimetype": "text/x-python",
   "name": "python",
   "nbconvert_exporter": "python",
   "pygments_lexer": "ipython2",
   "version": "2.7.12"
  }
 },
 "nbformat": 4,
 "nbformat_minor": 2
}
