{
 "cells": [
  {
   "cell_type": "code",
   "execution_count": null,
   "metadata": {
    "collapsed": true
   },
   "outputs": [],
   "source": [
    "import sklearn\n",
    "import numpy as np\n",
    "import pandas\n",
    "\n",
    "import sklearn\n",
    "from sklearn import tree\n",
    "from sklearn import ensemble\n",
    "\n",
    "import skimage.data\n",
    "import skimage.transform\n",
    "from skimage import data, io, filters"
   ]
  },
  {
   "cell_type": "code",
   "execution_count": null,
   "metadata": {
    "collapsed": true
   },
   "outputs": [],
   "source": [
    "import math\n",
    "\n",
    "width = 240\n",
    "height = 160\n",
    "\n",
    "# Import Labels\n",
    "labels = []\n",
    "imagePaths = []\n",
    "lastTrackingAngle = 0\n",
    "for i in range(20,26):\n",
    "    fname = \"./CarDataNew/AccelerationData/capture\"+str(i)+\"/accelClass.txt\"\n",
    "    base = \"./CarDataNew/AccelerationData/capture\"+str(i) + \"/\"\n",
    "    with open(fname) as f:\n",
    "        content = f.readlines()\n",
    "        for line in content:\n",
    "            line = line.split(\",\")\n",
    "            speedString = (line[1].split(\" \"))[2]\n",
    "            speed = float(speedString)\n",
    "            trackingAngleString = (line[8].split(\" \"))[2]\n",
    "            trackingAngle = float(trackingAngleString)\n",
    "            deltaTrackingAngle = trackingAngle - lastTrackingAngle\n",
    "            lastTrackingAngle = trackingAngle\n",
    "            filePath = (line[10])\n",
    "            if speed > 10 and abs(deltaTrackingAngle) > 1 and abs(deltaTrackingAngle) < 4:\n",
    "                labels.append(deltaTrackingAngle)\n",
    "                #print speed\n",
    "                #print trackingAngle\n",
    "                picturePath = base+filePath\n",
    "                #print picturePath\n",
    "                imagePaths.append(picturePath)\n",
    "\n",
    "trainingIndex = int(len(imagePaths)/1.3)"
   ]
  },
  {
   "cell_type": "code",
   "execution_count": null,
   "metadata": {},
   "outputs": [],
   "source": [
    "images = []\n",
    "for i in range(len(imagePaths)):\n",
    "    loadPath = imagePaths[i]\n",
    "    images.append(skimage.data.imread(loadPath))"
   ]
  },
  {
   "cell_type": "code",
   "execution_count": null,
   "metadata": {},
   "outputs": [],
   "source": [
    "# Resize images\n",
    "images = [skimage.transform.resize(image, (height, width))\n",
    "                for image in images]"
   ]
  },
  {
   "cell_type": "code",
   "execution_count": null,
   "metadata": {},
   "outputs": [],
   "source": [
    "\n",
    "images = np.asarray(images)\n",
    "imagesFlat = images.reshape(len(images),width*height*3)"
   ]
  },
  {
   "cell_type": "code",
   "execution_count": null,
   "metadata": {},
   "outputs": [],
   "source": [
    "labels_a = np.array(labels)\n",
    "images_a = np.array(imagesFlat)\n",
    "print(\"labels: \", labels_a.shape, \"\\nimages: \", imagesFlat.shape)"
   ]
  },
  {
   "cell_type": "code",
   "execution_count": null,
   "metadata": {},
   "outputs": [],
   "source": [
    "RegressorClass = labels\n",
    "clf = ensemble.RandomForestRegressor(n_jobs=-1)\n",
    "for round in range(0,1):\n",
    "    print(\"training start\")\n",
    "    clf = clf.fit(imagesFlat[:trainingIndex], labels[:trainingIndex])\n",
    "    print(\"training end\")"
   ]
  },
  {
   "cell_type": "code",
   "execution_count": null,
   "metadata": {},
   "outputs": [],
   "source": [
    "#Calculate MSE for testing        \n",
    "print(clf.score(imagesFlat[trainingIndex:], labels[trainingIndex:]))"
   ]
  },
  {
   "cell_type": "code",
   "execution_count": null,
   "metadata": {},
   "outputs": [],
   "source": [
    "totalSquaredError = 0\n",
    "for i in range(trainingIndex, len(images)):\n",
    "    imageToPredict = imagesFlat[i]\n",
    "    imageToPredict= imageToPredict.reshape(1, -1)\n",
    "    result = clf.predict(imageToPredict)\n",
    "    guess = result\n",
    "    actual = labels[i]\n",
    "    print(\"Guess: \" + str(guess) + \"   Actual: \" + str(actual))\n",
    "    squaredError = abs(actual-guess)*abs(actual-guess)\n",
    "    totalSquaredError += squaredError\n",
    "averageSquaredError = math.sqrt(totalSquaredError/(len(images)-trainingIndex))\n",
    "print(str(averageSquaredError))"
   ]
  },
  {
   "cell_type": "code",
   "execution_count": null,
   "metadata": {},
   "outputs": [],
   "source": []
  },
  {
   "cell_type": "code",
   "execution_count": null,
   "metadata": {
    "collapsed": true
   },
   "outputs": [],
   "source": []
  }
 ],
 "metadata": {
  "kernelspec": {
   "display_name": "Python 3",
   "language": "python",
   "name": "python3"
  },
  "language_info": {
   "codemirror_mode": {
    "name": "ipython",
    "version": 3
   },
   "file_extension": ".py",
   "mimetype": "text/x-python",
   "name": "python",
   "nbconvert_exporter": "python",
   "pygments_lexer": "ipython3",
   "version": "3.5.2"
  }
 },
 "nbformat": 4,
 "nbformat_minor": 2
}
